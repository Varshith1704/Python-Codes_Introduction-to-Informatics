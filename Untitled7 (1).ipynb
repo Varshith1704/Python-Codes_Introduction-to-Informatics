{
 "cells": [
  {
   "cell_type": "code",
   "execution_count": 1,
   "metadata": {},
   "outputs": [
    {
     "name": "stdout",
     "output_type": "stream",
     "text": [
      "Input the base : 4\n",
      "Input the height : 6\n",
      "area =  12.0\n"
     ]
    }
   ],
   "source": [
    "b = int(input(\"Input the base : \"))\n",
    "h = int(input(\"Input the height : \"))\n",
    "area = b*h/2\n",
    "print(\"area = \", area)"
   ]
  },
  {
   "cell_type": "code",
   "execution_count": 2,
   "metadata": {},
   "outputs": [
    {
     "name": "stdout",
     "output_type": "stream",
     "text": [
      "scitamrofni ot noitcudortnI\n"
     ]
    }
   ],
   "source": [
    "txt = 'Introduction to informatics'[::-1]\n",
    "print(txt)"
   ]
  },
  {
   "cell_type": "code",
   "execution_count": 3,
   "metadata": {},
   "outputs": [
    {
     "name": "stdout",
     "output_type": "stream",
     "text": [
      "99\n",
      "442\n"
     ]
    }
   ],
   "source": [
    "l=[22,99,76,442,42,590,893,4,8,83]\n",
    "l.sort()\n",
    "for n in l:\n",
    "    num=n\n",
    "    count = 0\n",
    "    while n != 0:\n",
    "        n //= 10\n",
    "        count += 1\n",
    "    if(count==3):\n",
    "        i=l.index(num)\n",
    "        print(l[i-1])\n",
    "        print(l[i])\n",
    "        break"
   ]
  },
  {
   "cell_type": "code",
   "execution_count": 4,
   "metadata": {},
   "outputs": [
    {
     "name": "stdout",
     "output_type": "stream",
     "text": [
      "55\n"
     ]
    }
   ],
   "source": [
    "nl=[]\n",
    "for x in range(20, 77):\n",
    "    if (x%5==0) and (x%11==0):\n",
    "        nl.append(str(x))\n",
    "print (','.join(nl))"
   ]
  },
  {
   "cell_type": "code",
   "execution_count": 5,
   "metadata": {},
   "outputs": [
    {
     "name": "stdout",
     "output_type": "stream",
     "text": [
      "Enter comma separated values: 110\n",
      "110 is present\n"
     ]
    }
   ],
   "source": [
    "lst = list(map(int, input(\"Enter comma separated values: \").split(\",\")))\n",
    "for i in lst:\n",
    "    if i in range(110,291):\n",
    "        print(i , \"is present\")\n",
    "    else:\n",
    "        print(i , \"is not present\")"
   ]
  },
  {
   "cell_type": "code",
   "execution_count": 6,
   "metadata": {},
   "outputs": [
    {
     "name": "stdout",
     "output_type": "stream",
     "text": [
      "Enter number: 6\n",
      "6\n",
      "12\n"
     ]
    }
   ],
   "source": [
    "number = int(input(\"Enter number: \"))\n",
    "for i in range(1,int(16/number+1)):\n",
    "    k=number*i\n",
    "    if k in range(1,16):\n",
    "        print(k)"
   ]
  },
  {
   "cell_type": "code",
   "execution_count": 7,
   "metadata": {},
   "outputs": [
    {
     "name": "stdout",
     "output_type": "stream",
     "text": [
      "72\n"
     ]
    }
   ],
   "source": [
    "n = 74\n",
    "V,R=0,0\n",
    "for i in range(6):\n",
    "    V=n-i\n",
    "    if V%6==0:\n",
    "        break\n",
    "for i in range(6):    \n",
    "    R=n+i\n",
    "    if R%6==0:\n",
    "        break\n",
    "if n-V>R-n:\n",
    "    print(R)\n",
    "else:\n",
    "    print(V)"
   ]
  },
  {
   "cell_type": "code",
   "execution_count": 8,
   "metadata": {},
   "outputs": [
    {
     "name": "stdout",
     "output_type": "stream",
     "text": [
      "[1, 2, 3, 11, 12, 22, 23, 25, 34, 44, 64, 122]\n"
     ]
    }
   ],
   "source": [
    "def myfun(S):\n",
    "    n=len(S)\n",
    "    for i in range (n):\n",
    "        for j in range(i + 1, n):\n",
    "            if(S[i] > S[j]):\n",
    "                temp = S[i]\n",
    "                S[i] = S[j]\n",
    "                S[j] = temp\n",
    "    print(S)  \n",
    "L = [64, 25, 12, 22, 11, 1,2,44,3,122, 23, 34]\n",
    "myfun(L)"
   ]
  },
  {
   "cell_type": "code",
   "execution_count": 9,
   "metadata": {},
   "outputs": [
    {
     "name": "stdout",
     "output_type": "stream",
     "text": [
      "Bloomington\n",
      "2\n"
     ]
    }
   ],
   "source": [
    "list=['IUPUI', 'Bloomington', 'Cincinnati', 'Harvard', 'Stanford', 'illinois', 'Duke']\n",
    "n=list.index('Cincinnati')\n",
    "print(list[1])\n",
    "print(n)"
   ]
  }
 ],
 "metadata": {
  "kernelspec": {
   "display_name": "Python 3",
   "language": "python",
   "name": "python3"
  },
  "language_info": {
   "codemirror_mode": {
    "name": "ipython",
    "version": 3
   },
   "file_extension": ".py",
   "mimetype": "text/x-python",
   "name": "python",
   "nbconvert_exporter": "python",
   "pygments_lexer": "ipython3",
   "version": "3.8.10"
  }
 },
 "nbformat": 4,
 "nbformat_minor": 4
}
