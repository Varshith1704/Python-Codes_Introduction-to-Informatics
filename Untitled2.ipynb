{
 "cells": [
  {
   "cell_type": "code",
   "execution_count": 4,
   "metadata": {},
   "outputs": [
    {
     "name": "stdout",
     "output_type": "stream",
     "text": [
      "27\n",
      "in\n",
      "cs\n"
     ]
    }
   ],
   "source": [
    "details_1 = 'introduction to informatics'\n",
    "print(len(details_1))\n",
    "l=len(details_1)\n",
    "print(details_1[0:2])\n",
    "print(details_1[-2:])"
   ]
  },
  {
   "cell_type": "code",
   "execution_count": 5,
   "metadata": {},
   "outputs": [
    {
     "name": "stdout",
     "output_type": "stream",
     "text": [
      "5\n",
      "I \n",
      "01\n"
     ]
    }
   ],
   "source": [
    "details_1 = 'I 501'\n",
    "print(len(details_1))\n",
    "l=len(details_1)\n",
    "print(details_1[0:2])\n",
    "print(details_1[-2:])"
   ]
  },
  {
   "cell_type": "code",
   "execution_count": 8,
   "metadata": {},
   "outputs": [
    {
     "name": "stdout",
     "output_type": "stream",
     "text": [
      "Name: charles\n",
      "age: 21\n",
      "height: 5.9\n",
      "city: Vegas\n"
     ]
    }
   ],
   "source": [
    "def details():\n",
    "    name,age,height=\"charles\",21,5.9\n",
    "    city=\"Vegas\"\n",
    "    print(\"Name: {}\\nage: {}\\nheight: {}\\ncity: {}\".format(name, age, height, city))\n",
    "details()"
   ]
  },
  {
   "cell_type": "code",
   "execution_count": 9,
   "metadata": {},
   "outputs": [
    {
     "name": "stdout",
     "output_type": "stream",
     "text": [
      "enter first number17\n",
      "enter second number12\n",
      "enter third number28\n",
      "sum of three number: 57\n"
     ]
    }
   ],
   "source": [
    "x=int(input(\"enter first number\"))\n",
    "y=int(input(\"enter second number\"))\n",
    "z=int(input(\"enter third number\"))\n",
    "print(\"sum of three number:\", x+y+z)"
   ]
  },
  {
   "cell_type": "code",
   "execution_count": 12,
   "metadata": {},
   "outputs": [
    {
     "name": "stdout",
     "output_type": "stream",
     "text": [
      "enter number1.7\n",
      "2.8899999999999997 4.912999999999999\n"
     ]
    }
   ],
   "source": [
    "v=float(input(\"enter number\"))\n",
    "v1= v*v\n",
    "v2= v1*v\n",
    "print(v1,v2)"
   ]
  },
  {
   "cell_type": "code",
   "execution_count": 16,
   "metadata": {},
   "outputs": [
    {
     "name": "stdout",
     "output_type": "stream",
     "text": [
      "Introduction to Informatics!!-I501 34\n"
     ]
    }
   ],
   "source": [
    "s1= \"Introduction to Informatics!!\"\n",
    "s2= \"I501\"\n",
    "s3= s1+ '-' +s2\n",
    "print (s3,len(s3))"
   ]
  },
  {
   "cell_type": "code",
   "execution_count": 17,
   "metadata": {},
   "outputs": [
    {
     "name": "stdout",
     "output_type": "stream",
     "text": [
      "8 is of type <class 'int'>\n",
      "int is of type <class 'str'>\n",
      "5.0 is of type <class 'float'>\n",
      "(4+8.7j) is of type <class 'complex'>\n"
     ]
    }
   ],
   "source": [
    "x = 12-4\n",
    "print(x, \"is of type\", type(x))\n",
    "x1 = \"int\"\n",
    "print(x1, \"is of type\", type(x1))\n",
    "x2 = 200//40.0\n",
    "print(x2, \"is of type\", type(x2))\n",
    "x3 = 4+8.7j\n",
    "print(x3, \"is of type\", type(x3))"
   ]
  },
  {
   "cell_type": "code",
   "execution_count": 18,
   "metadata": {},
   "outputs": [
    {
     "name": "stdout",
     "output_type": "stream",
     "text": [
      "enter first value: M.S DHONI\n",
      "enter second value: VIRAT KOHLI\n",
      "enter third value: SACHIN TENDULKAR\n",
      "SACHIN TENDULKAR\n"
     ]
    }
   ],
   "source": [
    "s1= input(\"enter first value: \")\n",
    "s2= input(\"enter second value: \")\n",
    "s3 = input(\"enter third value: \")\n",
    "list=[]\n",
    "list.append(s1)\n",
    "list.append(s2)\n",
    "list.append(s3)\n",
    "k=max(list, key=len)\n",
    "print(k)"
   ]
  }
 ],
 "metadata": {
  "kernelspec": {
   "display_name": "Python 3",
   "language": "python",
   "name": "python3"
  },
  "language_info": {
   "codemirror_mode": {
    "name": "ipython",
    "version": 3
   },
   "file_extension": ".py",
   "mimetype": "text/x-python",
   "name": "python",
   "nbconvert_exporter": "python",
   "pygments_lexer": "ipython3",
   "version": "3.8.10"
  }
 },
 "nbformat": 4,
 "nbformat_minor": 4
}
