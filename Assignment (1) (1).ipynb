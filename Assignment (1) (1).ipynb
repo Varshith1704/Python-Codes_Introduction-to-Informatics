{
 "cells": [
  {
   "cell_type": "markdown",
   "metadata": {},
   "source": [
    "## 1st 'a solution'"
   ]
  },
  {
   "cell_type": "code",
   "execution_count": 9,
   "metadata": {},
   "outputs": [
    {
     "name": "stdout",
     "output_type": "stream",
     "text": [
      "19.471823374275477\n",
      "p-values 0.12589666194467458\n",
      "we are accepting null hypothesis\n"
     ]
    }
   ],
   "source": [
    "from scipy import stats\n",
    "import pandas as pd\n",
    "from scipy.stats import ttest_1samp\n",
    "import numpy as np\n",
    "import matplotlib.pyplot as plt\n",
    "df = pd.read_csv('fitbit_data.csv')\n",
    "df.head(1)\n",
    "X=list(df['calories'])\n",
    "m=np.mean(X)\n",
    "print(m)\n",
    "tset, pval = ttest_1samp(X,20)\n",
    "print(\"p-values\",pval)\n",
    "if pval < 0.05:\n",
    "   print(\" we are rejecting null hypothesis\")\n",
    "else:\n",
    "  print(\"we are accepting null hypothesis\")"
   ]
  },
  {
   "cell_type": "markdown",
   "metadata": {},
   "source": [
    "## 1st 'b solution'"
   ]
  },
  {
   "cell_type": "code",
   "execution_count": 11,
   "metadata": {},
   "outputs": [
    {
     "name": "stdout",
     "output_type": "stream",
     "text": [
      "contingency_table :-\n",
      " calories  0.056269   0.058560   0.061000   0.061100   0.061125   0.061130   \\\n",
      "gender                                                                       \n",
      "0                 1          2        104          0          7          1   \n",
      "1                 0          0         10          1          2          0   \n",
      "\n",
      "calories  0.061158   0.061208   0.061217   0.061250   ...  89.000000  \\\n",
      "gender                                                ...              \n",
      "0                 0          4          2          2  ...         19   \n",
      "1                 1          1          0          0  ...          8   \n",
      "\n",
      "calories  90.000000  90.500000  91.500000  92.500000  93.500000  94.500000  \\\n",
      "gender                                                                       \n",
      "0                 8         12          8         17          3         11   \n",
      "1                 2          3          5          6          6         10   \n",
      "\n",
      "calories  95.500000  96.500000  97.500000  \n",
      "gender                                     \n",
      "0                10          8          6  \n",
      "1                 4          2          5  \n",
      "\n",
      "[2 rows x 2136 columns]\n",
      "Observed Values :-\n",
      " [[  1   2 104 ...  10   8   6]\n",
      " [  0   0  10 ...   4   2   5]]\n",
      "Expected Values :-\n",
      " [[ 0.52346743  1.04693487 59.67528736 ...  7.32854406  5.23467433\n",
      "   5.75814176]\n",
      " [ 0.47653257  0.95306513 54.32471264 ...  6.67145594  4.76532567\n",
      "   5.24185824]]\n",
      "Degree of Freedom:- 1\n",
      "chi-square statistic:- 2.7310155535224148\n",
      "critical_value: 3.841458820694124\n",
      "p-value: 0.09841668566407225\n",
      "Significance level:  0.05\n",
      "Degree of Freedom:  1\n",
      "chi-square statistic: 2.7310155535224148\n",
      "critical_value: 3.841458820694124\n",
      "p-value: 0.09841668566407225\n",
      "Retain H0,There is no relationship between 2 categorical variables\n",
      "Retain H0,There is no relationship between 2 categorical variables\n"
     ]
    }
   ],
   "source": [
    "df_chi = pd.read_csv('fitbit_data.csv')\n",
    "contingency_table=pd.crosstab(df_chi[\"gender\"],df_chi[\"calories\"])\n",
    "print('contingency_table :-\\n',contingency_table)\n",
    "Observed_Values = contingency_table.values \n",
    "print(\"Observed Values :-\\n\",Observed_Values)\n",
    "b=stats.chi2_contingency(contingency_table)\n",
    "Expected_Values = b[3]\n",
    "print(\"Expected Values :-\\n\",Expected_Values)\n",
    "no_of_rows=len(contingency_table.iloc[0:2,0])\n",
    "no_of_columns=len(contingency_table.iloc[0,0:2])\n",
    "ddof=(no_of_rows-1)*(no_of_columns-1)\n",
    "print(\"Degree of Freedom:-\",ddof)\n",
    "alpha = 0.05\n",
    "from scipy.stats import chi2\n",
    "chi_square=sum([(o-e)**2./e for o,e in zip(Observed_Values,Expected_Values)])\n",
    "chi_square_statistic=chi_square[0]+chi_square[1]\n",
    "print(\"chi-square statistic:-\",chi_square_statistic)\n",
    "critical_value=chi2.ppf(q=1-alpha,df=ddof)\n",
    "print('critical_value:',critical_value)\n",
    "p_value=1-chi2.cdf(x=chi_square_statistic,df=ddof)\n",
    "print('p-value:',p_value)\n",
    "print('Significance level: ',alpha)\n",
    "print('Degree of Freedom: ',ddof)\n",
    "print('chi-square statistic:',chi_square_statistic)\n",
    "print('critical_value:',critical_value)\n",
    "print('p-value:',p_value)\n",
    "if chi_square_statistic>=critical_value:\n",
    "    print(\"Reject H0,There is a relationship between 2 categorical variables\")\n",
    "else:\n",
    "    print(\"Retain H0,There is no relationship between 2 categorical variables\")\n",
    "    \n",
    "if p_value<=alpha:\n",
    "    print(\"Reject H0,There is a relationship between 2 categorical variables\")\n",
    "else:\n",
    "    print(\"Retain H0,There is no relationship between 2 categorical variables\")"
   ]
  },
  {
   "cell_type": "markdown",
   "metadata": {},
   "source": [
    "## 2nd"
   ]
  },
  {
   "cell_type": "code",
   "execution_count": 12,
   "metadata": {},
   "outputs": [
    {
     "name": "stdout",
     "output_type": "stream",
     "text": [
      "Salmon/Cottage cheese 776.522\n",
      "Cottage cheese/Pork 301.179\n",
      "Pork/Oats 202.934\n",
      "Oats/Baked Beans 81.901\n",
      "Baked Beans/Chicken 423.376\n",
      "Chicken/Beef 213.067\n"
     ]
    }
   ],
   "source": [
    "from math import *\n",
    "from decimal import Decimal\n",
    "def p_root(value, root):\n",
    "    root_value = 1 / float(root)\n",
    "    return round (Decimal(value) **\n",
    "             Decimal(root_value), 3)\n",
    "def minkowski_distance(x, y, p_value):\n",
    "    return (p_root(sum(pow(abs(a-b), p_value)\n",
    "            for a, b in zip(x, y)), p_value))\n",
    "v1 = [31,8.2,0,802,206]\n",
    "v2 = [18.58,1.53,4.08,26,108]\n",
    "v3 = [41.1,25.56,0,120,406]\n",
    "v4 = [25.34,10.35,99.4,0,584]\n",
    "v5 = [6.2,0.3,17.9,0,584]\n",
    "v6 = [34.64,1.86,0,132,165]\n",
    "v7 = [40.94,22.52,0,135,378]\n",
    "p = 3\n",
    "print(\"Salmon/Cottage cheese\",minkowski_distance(v1, v2, p))\n",
    "print(\"Cottage cheese/Pork\",minkowski_distance(v2, v3, p))\n",
    "print(\"Pork/Oats\",minkowski_distance(v3, v4, p))\n",
    "print(\"Oats/Baked Beans\",minkowski_distance(v4, v5, p))\n",
    "print(\"Baked Beans/Chicken\",minkowski_distance(v5, v6, p))\n",
    "print(\"Chicken/Beef\",minkowski_distance(v6, v7, p))"
   ]
  },
  {
   "cell_type": "markdown",
   "metadata": {},
   "source": [
    "## 3rd"
   ]
  },
  {
   "cell_type": "code",
   "execution_count": 13,
   "metadata": {},
   "outputs": [
    {
     "name": "stdout",
     "output_type": "stream",
     "text": [
      "                      Unnamed: 0        X1       age    gender    height  \\\n",
      "Unnamed: 0              1.000000  0.449037  0.126539 -0.225263 -0.204343   \n",
      "X1                      0.449037  1.000000  0.299608 -0.465047 -0.369403   \n",
      "age                     0.126539  0.299608  1.000000 -0.236032 -0.518798   \n",
      "gender                 -0.225263 -0.465047 -0.236032  1.000000  0.735852   \n",
      "height                 -0.204343 -0.369403 -0.518798  0.735852  1.000000   \n",
      "weight                 -0.206349 -0.262244 -0.152317  0.580446  0.693504   \n",
      "steps                  -0.252668  0.138594  0.006394 -0.069719  0.025729   \n",
      "hear_rate              -0.067211  0.181164 -0.007665 -0.093476 -0.123519   \n",
      "calories                0.447055 -0.156275 -0.064661  0.071875  0.034447   \n",
      "distance                0.335736  0.055878 -0.061169 -0.051779 -0.091422   \n",
      "entropy_heart          -0.159582 -0.067306 -0.002541 -0.051111 -0.069491   \n",
      "entropy_setps          -0.326790 -0.138498 -0.001528  0.014608  0.049100   \n",
      "resting_heart          -0.160754 -0.130887 -0.022833 -0.082235 -0.028330   \n",
      "corr_heart_steps        0.379415 -0.060269  0.068108 -0.039968 -0.031292   \n",
      "norm_heart              0.052239  0.280584  0.009318 -0.032913 -0.103492   \n",
      "intensity_karvonen     -0.009939  0.308903  0.071297 -0.064392 -0.124562   \n",
      "sd_norm_heart           0.095454  0.298053  0.058018 -0.057793 -0.090542   \n",
      "steps_times_distance    0.149589  0.014122 -0.045816  0.022257 -0.075755   \n",
      "\n",
      "                        weight     steps  hear_rate  calories  distance  \\\n",
      "Unnamed: 0           -0.206349 -0.252668  -0.067211  0.447055  0.335736   \n",
      "X1                   -0.262244  0.138594   0.181164 -0.156275  0.055878   \n",
      "age                  -0.152317  0.006394  -0.007665 -0.064661 -0.061169   \n",
      "gender                0.580446 -0.069719  -0.093476  0.071875 -0.051779   \n",
      "height                0.693504  0.025729  -0.123519  0.034447 -0.091422   \n",
      "weight                1.000000  0.045389  -0.064317 -0.023612 -0.072294   \n",
      "steps                 0.045389  1.000000   0.164084 -0.250973 -0.090433   \n",
      "hear_rate            -0.064317  0.164084   1.000000 -0.141972 -0.068879   \n",
      "calories             -0.023612 -0.250973  -0.141972  1.000000  0.255145   \n",
      "distance             -0.072294 -0.090433  -0.068879  0.255145  1.000000   \n",
      "entropy_heart        -0.156601  0.021579   0.060427  0.001069 -0.056429   \n",
      "entropy_setps        -0.052906  0.086400   0.036693 -0.105678 -0.296744   \n",
      "resting_heart        -0.014345  0.083964   0.382275 -0.055703 -0.320791   \n",
      "corr_heart_steps     -0.064750 -0.229163  -0.174136  0.208055  0.081354   \n",
      "norm_heart           -0.054192  0.102876   0.723648 -0.101669  0.170087   \n",
      "intensity_karvonen   -0.064944  0.144211   0.780478 -0.164999  0.066103   \n",
      "sd_norm_heart        -0.009806  0.112486   0.280313 -0.148178  0.296582   \n",
      "steps_times_distance -0.008666  0.023798   0.064759  0.119908  0.653995   \n",
      "\n",
      "                      entropy_heart  entropy_setps  resting_heart  \\\n",
      "Unnamed: 0                -0.159582      -0.326790      -0.160754   \n",
      "X1                        -0.067306      -0.138498      -0.130887   \n",
      "age                       -0.002541      -0.001528      -0.022833   \n",
      "gender                    -0.051111       0.014608      -0.082235   \n",
      "height                    -0.069491       0.049100      -0.028330   \n",
      "weight                    -0.156601      -0.052906      -0.014345   \n",
      "steps                      0.021579       0.086400       0.083964   \n",
      "hear_rate                  0.060427       0.036693       0.382275   \n",
      "calories                   0.001069      -0.105678      -0.055703   \n",
      "distance                  -0.056429      -0.296744      -0.320791   \n",
      "entropy_heart              1.000000       0.689704       0.097105   \n",
      "entropy_setps              0.689704       1.000000       0.351876   \n",
      "resting_heart              0.097105       0.351876       1.000000   \n",
      "corr_heart_steps          -0.065493      -0.074373      -0.028941   \n",
      "norm_heart                -0.011547      -0.225787      -0.361117   \n",
      "intensity_karvonen         0.045306      -0.122327      -0.218232   \n",
      "sd_norm_heart             -0.266308      -0.425436      -0.301130   \n",
      "steps_times_distance      -0.070797      -0.266456      -0.236255   \n",
      "\n",
      "                      corr_heart_steps  norm_heart  intensity_karvonen  \\\n",
      "Unnamed: 0                    0.379415    0.052239           -0.009939   \n",
      "X1                           -0.060269    0.280584            0.308903   \n",
      "age                           0.068108    0.009318            0.071297   \n",
      "gender                       -0.039968   -0.032913           -0.064392   \n",
      "height                       -0.031292   -0.103492           -0.124562   \n",
      "weight                       -0.064750   -0.054192           -0.064944   \n",
      "steps                        -0.229163    0.102876            0.144211   \n",
      "hear_rate                    -0.174136    0.723648            0.780478   \n",
      "calories                      0.208055   -0.101669           -0.164999   \n",
      "distance                      0.081354    0.170087            0.066103   \n",
      "entropy_heart                -0.065493   -0.011547            0.045306   \n",
      "entropy_setps                -0.074373   -0.225787           -0.122327   \n",
      "resting_heart                -0.028941   -0.361117           -0.218232   \n",
      "corr_heart_steps              1.000000   -0.154116           -0.188050   \n",
      "norm_heart                   -0.154116    1.000000            0.950630   \n",
      "intensity_karvonen           -0.188050    0.950630            1.000000   \n",
      "sd_norm_heart                -0.011376    0.507796            0.460610   \n",
      "steps_times_distance         -0.012402    0.241811            0.144213   \n",
      "\n",
      "                      sd_norm_heart  steps_times_distance  \n",
      "Unnamed: 0                 0.095454              0.149589  \n",
      "X1                         0.298053              0.014122  \n",
      "age                        0.058018             -0.045816  \n",
      "gender                    -0.057793              0.022257  \n",
      "height                    -0.090542             -0.075755  \n",
      "weight                    -0.009806             -0.008666  \n",
      "steps                      0.112486              0.023798  \n",
      "hear_rate                  0.280313              0.064759  \n",
      "calories                  -0.148178              0.119908  \n",
      "distance                   0.296582              0.653995  \n",
      "entropy_heart             -0.266308             -0.070797  \n",
      "entropy_setps             -0.425436             -0.266456  \n",
      "resting_heart             -0.301130             -0.236255  \n",
      "corr_heart_steps          -0.011376             -0.012402  \n",
      "norm_heart                 0.507796              0.241811  \n",
      "intensity_karvonen         0.460610              0.144213  \n",
      "sd_norm_heart              1.000000              0.247049  \n",
      "steps_times_distance       0.247049              1.000000  \n",
      "Pearson Correlation (0.25514523849011933, 1.1556426128017132e-93)\n"
     ]
    }
   ],
   "source": [
    "import pandas as pd\n",
    "import scipy.stats\n",
    "df = pd.read_csv('fitbit_data.csv')\n",
    "matrix=df.corr()\n",
    "print(matrix)\n",
    "df.corr(method='pearson')\n",
    "k=scipy.stats.pearsonr(df['calories'], df['distance'])\n",
    "print('Pearson Correlation',k)"
   ]
  },
  {
   "cell_type": "markdown",
   "metadata": {},
   "source": [
    "## 4th"
   ]
  },
  {
   "cell_type": "code",
   "execution_count": 10,
   "metadata": {},
   "outputs": [
    {
     "name": "stdout",
     "output_type": "stream",
     "text": [
      "[[44.18181818 17.27272727]\n",
      " [52.81818182 43.09090909]\n",
      " [30.625      58.5       ]]\n"
     ]
    },
    {
     "data": {
      "image/png": "[encoded data removed]",
      "text/plain": [
       "<Figure size 432x288 with 1 Axes>"
      ]
     },
     "metadata": {
      "needs_background": "light"
     },
     "output_type": "display_data"
    }
   ],
   "source": [
    "import pandas as pd\n",
    "from sklearn.cluster import KMeans\n",
    "import matplotlib.pyplot as plt\n",
    "import numpy as np\n",
    "from pandas import DataFrame\n",
    "Data = {'x': [30,44,32,30,33,33,31,22,30,34,57,54,57,43,50,47,59,52,65,57,49,48,35,53,44,45,38,43,51,46],\n",
    "        'y': [19,51,53,38,59,74,73,57,69,45,51,32,10,47,53,36,35,58,29,50,25,20,14,32,26,5,29,27,8,7]\n",
    "       } \n",
    "df = DataFrame(Data,columns=['x','y'])  \n",
    "kmeans = KMeans(n_clusters=3).fit(df)\n",
    "centroids = kmeans.cluster_centers_\n",
    "print(centroids)\n",
    "plt.scatter(df['x'], df['y'], c= kmeans.labels_.astype(float), s=50, alpha=0.5)\n",
    "plt.scatter(centroids[:, 0], centroids[:, 1], c='red', s=50)\n",
    "plt.show()"
   ]
  },
  {
   "cell_type": "code",
   "execution_count": null,
   "metadata": {},
   "outputs": [],
   "source": []
  }
 ],
 "metadata": {
  "kernelspec": {
   "display_name": "Python 3",
   "language": "python",
   "name": "python3"
  },
  "language_info": {
   "codemirror_mode": {
    "name": "ipython",
    "version": 3
   },
   "file_extension": ".py",
   "mimetype": "text/x-python",
   "name": "python",
   "nbconvert_exporter": "python",
   "pygments_lexer": "ipython3",
   "version": "3.7.6"
  }
 },
 "nbformat": 4,
 "nbformat_minor": 4
}
