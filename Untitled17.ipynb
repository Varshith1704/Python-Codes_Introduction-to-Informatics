{
 "cells": [
  {
   "cell_type": "code",
   "execution_count": 20,
   "metadata": {},
   "outputs": [],
   "source": [
    "import numpy as np \n",
    "import pandas as pd \n",
    "import matplotlib.pyplot as plot\n",
    "from numpy.polynomial import polynomial as P\n",
    "import pylab"
   ]
  },
  {
   "cell_type": "code",
   "execution_count": 23,
   "metadata": {},
   "outputs": [
    {
     "data": {
      "text/html": [
       "<div>\n",
       "<style scoped>\n",
       "    .dataframe tbody tr th:only-of-type {\n",
       "        vertical-align: middle;\n",
       "    }\n",
       "\n",
       "    .dataframe tbody tr th {\n",
       "        vertical-align: top;\n",
       "    }\n",
       "\n",
       "    .dataframe thead th {\n",
       "        text-align: right;\n",
       "    }\n",
       "</style>\n",
       "<table border=\"1\" class=\"dataframe\">\n",
       "  <thead>\n",
       "    <tr style=\"text-align: right;\">\n",
       "      <th></th>\n",
       "      <th>ORDERNUMBER</th>\n",
       "      <th>QUANTITYORDERED</th>\n",
       "      <th>PRICEEACH</th>\n",
       "      <th>SALES</th>\n",
       "      <th>ORDERDATE</th>\n",
       "      <th>MONTH_ID</th>\n",
       "      <th>YEAR_ID</th>\n",
       "    </tr>\n",
       "  </thead>\n",
       "  <tbody>\n",
       "    <tr>\n",
       "      <th>1</th>\n",
       "      <td>10107</td>\n",
       "      <td>30</td>\n",
       "      <td>95.7</td>\n",
       "      <td>2871</td>\n",
       "      <td>2/24/2003 0:00</td>\n",
       "      <td>2</td>\n",
       "      <td>2003</td>\n",
       "    </tr>\n",
       "    <tr>\n",
       "      <th>2</th>\n",
       "      <td>10121</td>\n",
       "      <td>34</td>\n",
       "      <td>81.35</td>\n",
       "      <td>2765.9</td>\n",
       "      <td>5/7/2003 0:00</td>\n",
       "      <td>5</td>\n",
       "      <td>2003</td>\n",
       "    </tr>\n",
       "    <tr>\n",
       "      <th>3</th>\n",
       "      <td>10134</td>\n",
       "      <td>41</td>\n",
       "      <td>94.74</td>\n",
       "      <td>3884.34</td>\n",
       "      <td>7/1/2003 0:00</td>\n",
       "      <td>7</td>\n",
       "      <td>2003</td>\n",
       "    </tr>\n",
       "    <tr>\n",
       "      <th>4</th>\n",
       "      <td>10145</td>\n",
       "      <td>45</td>\n",
       "      <td>83.26</td>\n",
       "      <td>3746.7</td>\n",
       "      <td>8/25/2003 0:00</td>\n",
       "      <td>8</td>\n",
       "      <td>2003</td>\n",
       "    </tr>\n",
       "    <tr>\n",
       "      <th>5</th>\n",
       "      <td>10159</td>\n",
       "      <td>49</td>\n",
       "      <td>100</td>\n",
       "      <td>5205.27</td>\n",
       "      <td>10/10/2003 0:00</td>\n",
       "      <td>10</td>\n",
       "      <td>2003</td>\n",
       "    </tr>\n",
       "  </tbody>\n",
       "</table>\n",
       "</div>"
      ],
      "text/plain": [
       "0 ORDERNUMBER QUANTITYORDERED PRICEEACH    SALES        ORDERDATE MONTH_ID  \\\n",
       "1       10107              30      95.7     2871   2/24/2003 0:00        2   \n",
       "2       10121              34     81.35   2765.9    5/7/2003 0:00        5   \n",
       "3       10134              41     94.74  3884.34    7/1/2003 0:00        7   \n",
       "4       10145              45     83.26   3746.7   8/25/2003 0:00        8   \n",
       "5       10159              49       100  5205.27  10/10/2003 0:00       10   \n",
       "\n",
       "0 YEAR_ID  \n",
       "1    2003  \n",
       "2    2003  \n",
       "3    2003  \n",
       "4    2003  \n",
       "5    2003  "
      ]
     },
     "execution_count": 23,
     "metadata": {},
     "output_type": "execute_result"
    }
   ],
   "source": [
    "df = pd.read_csv('sales_data_sample.csv', sep=',', header=None)\n",
    "df. columns=df. iloc[0]\n",
    "df.drop(index=df.index[0], \n",
    "        axis=0, \n",
    "        inplace=True)\n",
    "df.head()"
   ]
  },
  {
   "cell_type": "code",
   "execution_count": 24,
   "metadata": {},
   "outputs": [
    {
     "data": {
      "text/html": [
       "<div>\n",
       "<style scoped>\n",
       "    .dataframe tbody tr th:only-of-type {\n",
       "        vertical-align: middle;\n",
       "    }\n",
       "\n",
       "    .dataframe tbody tr th {\n",
       "        vertical-align: top;\n",
       "    }\n",
       "\n",
       "    .dataframe thead th {\n",
       "        text-align: right;\n",
       "    }\n",
       "</style>\n",
       "<table border=\"1\" class=\"dataframe\">\n",
       "  <thead>\n",
       "    <tr style=\"text-align: right;\">\n",
       "      <th></th>\n",
       "      <th>ORDERNUMBER</th>\n",
       "      <th>QUANTITYORDERED</th>\n",
       "      <th>PRICEEACH</th>\n",
       "      <th>SALES</th>\n",
       "      <th>ORDERDATE</th>\n",
       "      <th>MONTH_ID</th>\n",
       "      <th>YEAR_ID</th>\n",
       "      <th>Total_Cost</th>\n",
       "    </tr>\n",
       "  </thead>\n",
       "  <tbody>\n",
       "    <tr>\n",
       "      <th>1</th>\n",
       "      <td>10107</td>\n",
       "      <td>30</td>\n",
       "      <td>95.7</td>\n",
       "      <td>2871</td>\n",
       "      <td>2/24/2003 0:00</td>\n",
       "      <td>2</td>\n",
       "      <td>2003</td>\n",
       "      <td>2871.00</td>\n",
       "    </tr>\n",
       "    <tr>\n",
       "      <th>2</th>\n",
       "      <td>10121</td>\n",
       "      <td>34</td>\n",
       "      <td>81.35</td>\n",
       "      <td>2765.9</td>\n",
       "      <td>5/7/2003 0:00</td>\n",
       "      <td>5</td>\n",
       "      <td>2003</td>\n",
       "      <td>2765.90</td>\n",
       "    </tr>\n",
       "    <tr>\n",
       "      <th>3</th>\n",
       "      <td>10134</td>\n",
       "      <td>41</td>\n",
       "      <td>94.74</td>\n",
       "      <td>3884.34</td>\n",
       "      <td>7/1/2003 0:00</td>\n",
       "      <td>7</td>\n",
       "      <td>2003</td>\n",
       "      <td>3884.34</td>\n",
       "    </tr>\n",
       "    <tr>\n",
       "      <th>4</th>\n",
       "      <td>10145</td>\n",
       "      <td>45</td>\n",
       "      <td>83.26</td>\n",
       "      <td>3746.7</td>\n",
       "      <td>8/25/2003 0:00</td>\n",
       "      <td>8</td>\n",
       "      <td>2003</td>\n",
       "      <td>3746.70</td>\n",
       "    </tr>\n",
       "    <tr>\n",
       "      <th>5</th>\n",
       "      <td>10159</td>\n",
       "      <td>49</td>\n",
       "      <td>100</td>\n",
       "      <td>5205.27</td>\n",
       "      <td>10/10/2003 0:00</td>\n",
       "      <td>10</td>\n",
       "      <td>2003</td>\n",
       "      <td>4900.00</td>\n",
       "    </tr>\n",
       "  </tbody>\n",
       "</table>\n",
       "</div>"
      ],
      "text/plain": [
       "0 ORDERNUMBER QUANTITYORDERED PRICEEACH    SALES        ORDERDATE MONTH_ID  \\\n",
       "1       10107              30      95.7     2871   2/24/2003 0:00        2   \n",
       "2       10121              34     81.35   2765.9    5/7/2003 0:00        5   \n",
       "3       10134              41     94.74  3884.34    7/1/2003 0:00        7   \n",
       "4       10145              45     83.26   3746.7   8/25/2003 0:00        8   \n",
       "5       10159              49       100  5205.27  10/10/2003 0:00       10   \n",
       "\n",
       "0 YEAR_ID  Total_Cost  \n",
       "1    2003     2871.00  \n",
       "2    2003     2765.90  \n",
       "3    2003     3884.34  \n",
       "4    2003     3746.70  \n",
       "5    2003     4900.00  "
      ]
     },
     "execution_count": 24,
     "metadata": {},
     "output_type": "execute_result"
    }
   ],
   "source": [
    "df['Total_Cost'] = df['QUANTITYORDERED'].astype(float) * df['PRICEEACH'].astype(float)\n",
    "df.head()"
   ]
  },
  {
   "cell_type": "code",
   "execution_count": 25,
   "metadata": {},
   "outputs": [
    {
     "data": {
      "image/png": "[encoded data removed]",
      "text/plain": [
       "<Figure size 1080x576 with 1 Axes>"
      ]
     },
     "metadata": {
      "needs_background": "light"
     },
     "output_type": "display_data"
    }
   ],
   "source": [
    "df.head(10).plot(x=\"YEAR_ID\", y=\"Total_Cost\",kind=\"bar\",figsize=(15, 8))\n",
    "plot.xlabel(\"Year Id\")\n",
    "plot.ylabel(\"Total Cost\")\n",
    "plot.title(\"Year Id vs Total Cost\")\n",
    "plot.show()"
   ]
  },
  {
   "cell_type": "markdown",
   "metadata": {},
   "source": [
    "# QUESTION 2"
   ]
  },
  {
   "cell_type": "code",
   "execution_count": 26,
   "metadata": {},
   "outputs": [],
   "source": [
    "from scipy.interpolate import *"
   ]
  },
  {
   "cell_type": "code",
   "execution_count": 27,
   "metadata": {},
   "outputs": [],
   "source": [
    "xVals=df['PRICEEACH'].astype(float)\n",
    "yVals=df['Total_Cost'].astype(float)"
   ]
  },
  {
   "cell_type": "code",
   "execution_count": 29,
   "metadata": {},
   "outputs": [
    {
     "name": "stdout",
     "output_type": "stream",
     "text": [
      "[0.4143602213380768, 0.4143605185326894, 0.4143690811486085]\n",
      "0.41436\n",
      "0.41436\n",
      "0.41437\n",
      "a = 0.0017 b = 35.021 c = -5.7481\n",
      "R-squared =  0.4143605185326894\n",
      "R-squared for model 2 =  0.4143605185326894\n",
      "R-squared for model 3 =  0.4143605185326894\n"
     ]
    }
   ],
   "source": [
    "def genFits(xVals, yVals, degrees):\n",
    "    models = []\n",
    "    for d in degrees:\n",
    "        model = np.polyfit(xVals,yVals, d)\n",
    "        models.append(model)\n",
    "    return models\n",
    "def rSquared(observed, predicted):\n",
    "  error = ((predicted - observed)**2).sum()\n",
    "  meanError = error/len(observed)\n",
    "  return 1 - (meanError/np.var(observed))\n",
    "def calculateError(models, degrees, xVals,yVals):\n",
    "    error_list = []\n",
    "    for i in range(len(models)):\n",
    "        estYVals= pylab.polyval(models[i], xVals)\n",
    "        error_list.append(rSquared(yVals, estYVals))\n",
    "    return error_list\n",
    "degrees = [1,2,3]\n",
    "models = genFits(xVals,yVals,degrees)\n",
    "error_rate = calculateError(models,degrees,xVals,yVals)\n",
    "print(error_rate)\n",
    "for error in error_rate:\n",
    "  print(round(error,5))\n",
    "a,b,c = models[1]\n",
    "print('a =', round(a, 4), 'b =', round(b, 4),'c =', round(c, 4))\n",
    "estYVals = pylab.polyval((a,b,c), xVals)\n",
    "print('R-squared = ', rSquared(yVals, estYVals))\n",
    "print('R-squared for model 2 = ', rSquared(yVals, estYVals))\n",
    "print('R-squared for model 3 = ', rSquared(yVals, estYVals))"
   ]
  },
  {
   "cell_type": "markdown",
   "metadata": {},
   "source": [
    "# QUESTION 3"
   ]
  },
  {
   "cell_type": "code",
   "execution_count": 1,
   "metadata": {},
   "outputs": [
    {
     "name": "stdout",
     "output_type": "stream",
     "text": [
      "[19 26 23 19 12 13 21 23 15 18]\n",
      "[10.96015169 12.89616273 13.90689896 17.96849911 18.36585183 19.11866351\n",
      " 21.77233938 22.52037348 24.21502211 26.4719173 ]\n",
      "[238.16318539 278.81941728 300.04487825 385.33848126 393.68288833\n",
      " 409.49193367 465.21912693 480.92784306 516.5154643  563.91026331]\n"
     ]
    },
    {
     "data": {
      "text/plain": [
       "[<matplotlib.lines.Line2D at 0x7fd353bfcb20>]"
      ]
     },
     "execution_count": 1,
     "metadata": {},
     "output_type": "execute_result"
    },
    {
     "data": {
      "image/png": "[encoded data removed]",
      "text/plain": [
       "<Figure size 432x288 with 1 Axes>"
      ]
     },
     "metadata": {
      "needs_background": "light"
     },
     "output_type": "display_data"
    }
   ],
   "source": [
    "from scipy import stats\n",
    "import numpy as np\n",
    "import matplotlib.pyplot as plt\n",
    "mu=0\n",
    "std=1\n",
    "x=np.random.randint(10,31,10)\n",
    "print(x)\n",
    "y=stats.norm.rvs(x,)\n",
    "y.sort()\n",
    "print(y)\n",
    "z=4*y*3 + 2*y*2 + 5*y +8 \n",
    "z.sort()\n",
    "print(z)\n",
    "xVals,yVals= y,z\n",
    "plt.plot(xVals,yVals,'o',label='Data Points')\n",
    "plt.title('Random Variables')\n",
    "model1=np.polyfit(xVals, yVals,2)\n",
    "plt.plot(xVals,np.polyval(model1,xVals), label='Quadratic Model')"
   ]
  },
  {
   "cell_type": "markdown",
   "metadata": {},
   "source": [
    "# QUESTION 4"
   ]
  },
  {
   "cell_type": "code",
   "execution_count": 30,
   "metadata": {},
   "outputs": [
    {
     "data": {
      "image/png": "[encoded data removed]",
      "text/plain": [
       "<Figure size 432x288 with 1 Axes>"
      ]
     },
     "metadata": {
      "needs_background": "light"
     },
     "output_type": "display_data"
    },
    {
     "data": {
      "text/plain": [
       "(array([2., 2., 2., 1., 3., 0., 1., 3., 5., 0., 6., 1., 3., 2., 2., 4., 1.,\n",
       "        1., 1., 7., 4., 6., 3., 1., 2., 5., 5., 0., 1., 2., 4., 0., 2., 3.,\n",
       "        1., 1., 0., 0., 1., 0., 2., 0., 0., 1., 0., 0., 0., 0., 0., 0., 1.,\n",
       "        1., 1., 1., 0., 0., 0., 0., 0., 0., 0., 1., 1., 0., 0., 0., 0., 0.,\n",
       "        0., 0., 0., 0., 0., 0., 0., 0., 0., 0., 0., 0., 0., 0., 0., 0., 0.,\n",
       "        0., 0., 0., 0., 0., 1., 0., 0., 0., 0., 1., 0., 0., 0., 1.]),\n",
       " array([  683.8  ,   783.024,   882.248,   981.472,  1080.696,  1179.92 ,\n",
       "         1279.144,  1378.368,  1477.592,  1576.816,  1676.04 ,  1775.264,\n",
       "         1874.488,  1973.712,  2072.936,  2172.16 ,  2271.384,  2370.608,\n",
       "         2469.832,  2569.056,  2668.28 ,  2767.504,  2866.728,  2965.952,\n",
       "         3065.176,  3164.4  ,  3263.624,  3362.848,  3462.072,  3561.296,\n",
       "         3660.52 ,  3759.744,  3858.968,  3958.192,  4057.416,  4156.64 ,\n",
       "         4255.864,  4355.088,  4454.312,  4553.536,  4652.76 ,  4751.984,\n",
       "         4851.208,  4950.432,  5049.656,  5148.88 ,  5248.104,  5347.328,\n",
       "         5446.552,  5545.776,  5645.   ,  5744.224,  5843.448,  5942.672,\n",
       "         6041.896,  6141.12 ,  6240.344,  6339.568,  6438.792,  6538.016,\n",
       "         6637.24 ,  6736.464,  6835.688,  6934.912,  7034.136,  7133.36 ,\n",
       "         7232.584,  7331.808,  7431.032,  7530.256,  7629.48 ,  7728.704,\n",
       "         7827.928,  7927.152,  8026.376,  8125.6  ,  8224.824,  8324.048,\n",
       "         8423.272,  8522.496,  8621.72 ,  8720.944,  8820.168,  8919.392,\n",
       "         9018.616,  9117.84 ,  9217.064,  9316.288,  9415.512,  9514.736,\n",
       "         9613.96 ,  9713.184,  9812.408,  9911.632, 10010.856, 10110.08 ,\n",
       "        10209.304, 10308.528, 10407.752, 10506.976, 10606.2  ]),\n",
       " <BarContainer object of 100 artists>)"
      ]
     },
     "execution_count": 30,
     "metadata": {},
     "output_type": "execute_result"
    },
    {
     "data": {
      "image/png": "[encoded data removed]",
      "text/plain": [
       "<Figure size 432x288 with 2 Axes>"
      ]
     },
     "metadata": {
      "needs_background": "light"
     },
     "output_type": "display_data"
    }
   ],
   "source": [
    "from scipy import stats\n",
    "\n",
    "# calculate the total cost\n",
    "x= df['Total_Cost']\n",
    "tval=stats.t.pdf(x,df=20, loc=0, scale=1)\n",
    "\n",
    "# calculating the slaes for sample of 100\n",
    "y= df['SALES'].sample(n = 100)\n",
    "y=y.astype(float)\n",
    "tval1=stats.t.pdf(y,df=20, loc=0, scale=1)\n",
    "\n",
    "# loit\n",
    "plot.plot(x,tval,y,tval1)\n",
    "plot.xlabel(\"Total cost\")\n",
    "plot.ylabel(\"Sales Random(100)\")\n",
    "plot.title(\"T - distribution\")\n",
    "plot.show()\n",
    "\n",
    "\n",
    "# plot histogram \n",
    "fig, axs = plot.subplots(1, 2, sharey=True, tight_layout=True)\n",
    "\n",
    "\n",
    "# We can set the number of bins with the bins keyword argument.\n",
    "axs[0].hist(x, bins=len(x), alpha=0.5,label='x')\n",
    "axs[1].hist(y, bins=len(y), alpha=0.5,label='y')"
   ]
  },
  {
   "cell_type": "code",
   "execution_count": null,
   "metadata": {},
   "outputs": [],
   "source": []
  }
 ],
 "metadata": {
  "kernelspec": {
   "display_name": "Python 3",
   "language": "python",
   "name": "python3"
  },
  "language_info": {
   "codemirror_mode": {
    "name": "ipython",
    "version": 3
   },
   "file_extension": ".py",
   "mimetype": "text/x-python",
   "name": "python",
   "nbconvert_exporter": "python",
   "pygments_lexer": "ipython3",
   "version": "3.8.10"
  }
 },
 "nbformat": 4,
 "nbformat_minor": 4
}
