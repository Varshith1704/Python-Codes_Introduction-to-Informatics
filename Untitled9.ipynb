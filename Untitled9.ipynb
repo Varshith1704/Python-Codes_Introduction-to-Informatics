{
 "cells": [
  {
   "cell_type": "code",
   "execution_count": 1,
   "metadata": {},
   "outputs": [
    {
     "name": "stdout",
     "output_type": "stream",
     "text": [
      "Mean is : 4.2\n",
      "Square Root of 81 is : 9.0\n",
      "Log value of 20 is : 2.995732273553991\n",
      "Sine value of 30 is : -0.9880316240928618\n"
     ]
    }
   ],
   "source": [
    "import math\n",
    "import statistics\n",
    "d = [3,4,2,5,3,5,3,7,6,4]\n",
    "x = statistics.mean(d)\n",
    "print(\"Mean is :\", x)\n",
    "print(\"Square Root of 81 is :\",math.sqrt(81)) \n",
    "print(\"Log value of 20 is :\",math.log(20))\n",
    "print(\"Sine value of 30 is :\",math.sin(30))\n"
   ]
  },
  {
   "cell_type": "code",
   "execution_count": 3,
   "metadata": {},
   "outputs": [
    {
     "name": "stdout",
     "output_type": "stream",
     "text": [
      "Varshith\n",
      "Reddy\n",
      "Course Name: Introduction to Informatics\n",
      "Course ID: I 501\n",
      "Student Name : Varshith\n",
      "Grade : Reddy\n",
      "Student Name : Varshith\n",
      "Grade : Reddy\n"
     ]
    }
   ],
   "source": [
    "S=input()\n",
    "G=input()\n",
    "lines = ['','\\n','Student Name : ',S,'\\n','Grade : ',G]\n",
    "with open('file.txt', 'a') as f:\n",
    "    f.write(''.join(lines))\n",
    "f = open(\"file.txt\", \"r\")\n",
    "print(f.read())\n"
   ]
  },
  {
   "cell_type": "code",
   "execution_count": 5,
   "metadata": {},
   "outputs": [
    {
     "name": "stdout",
     "output_type": "stream",
     "text": [
      "['My', 1]\n"
     ]
    }
   ],
   "source": [
    "T=(\"My\",1,\"Python\",\"Program\")\n",
    "r = []\n",
    "for i in range(len(T)):\n",
    "    r.append((T[i]))\n",
    "print(r[:2])\n"
   ]
  },
  {
   "cell_type": "code",
   "execution_count": 6,
   "metadata": {},
   "outputs": [
    {
     "name": "stdout",
     "output_type": "stream",
     "text": [
      "Dictonary : {'Apple': 25, 'Orange': 40, 'Grapes': 60, 'Mango': 20, 'Tomato': 8}\n",
      "Dictionary after adding Strawberry : {'Apple': 25, 'Orange': 40, 'Grapes': 60, 'Mango': 20, 'Tomato': 8, 'Strawberry': 23}\n",
      "Dictionary after updating Orange value : {'Apple': 25, 'Orange': 32, 'Grapes': 60, 'Mango': 20, 'Tomato': 8, 'Strawberry': 23}\n",
      "Sum of all values : 168\n",
      "Value for the key Grapes : 60\n"
     ]
    }
   ],
   "source": [
    "V={\"Apple\":25,\"Orange\":40,\"Grapes\":60,\"Mango\":20,\"Tomato\":8}\n",
    "print(\"Dictonary :\",V)\n",
    "V[\"Strawberry\"]=23\n",
    "print(\"Dictionary after adding Strawberry :\",V)\n",
    "V.update({\"Orange\":32})\n",
    "print(\"Dictionary after updating Orange value :\",V)\n",
    "L=[]\n",
    "for i in V:\n",
    "    L.append(V[i])\n",
    "s=sum(L)\n",
    "print(\"Sum of all values :\",s)\n",
    "print(\"Value for the key Grapes :\",V.get(\"Grapes\"))\n"
   ]
  },
  {
   "cell_type": "code",
   "execution_count": 7,
   "metadata": {},
   "outputs": [
    {
     "name": "stdout",
     "output_type": "stream",
     "text": [
      "36\n",
      "60\n",
      "63\n",
      "66\n",
      "69\n",
      "96\n",
      "126\n",
      "156\n",
      "162\n",
      "165\n",
      "168\n",
      "186\n",
      "216\n",
      "246\n",
      "261\n",
      "264\n",
      "267\n",
      "276\n",
      "306\n",
      "336\n",
      "360\n",
      "363\n",
      "366\n",
      "369\n",
      "396\n",
      "426\n",
      "456\n",
      "462\n",
      "465\n",
      "468\n",
      "486\n"
     ]
    }
   ],
   "source": [
    "for i in range(10,500):\n",
    "    if i % 3 == 0:\n",
    "        if '6' in str(i):\n",
    "            print(i)\n"
   ]
  },
  {
   "cell_type": "code",
   "execution_count": 9,
   "metadata": {},
   "outputs": [
    {
     "name": "stdout",
     "output_type": "stream",
     "text": [
      "APPLE\n",
      "String without duplicate elements : ['A', 'L', 'E', 'P']\n",
      "String with duplicate elements : ['P']\n"
     ]
    }
   ],
   "source": [
    "def withV(string):\n",
    "    R=[]\n",
    "    for i in range(0, len(string)):  \n",
    "        count = 1;  \n",
    "        for j in range(i+1, len(string)):  \n",
    "            if(string[i] == string[j] and string[i] != ' '):  \n",
    "                count = count + 1;  \n",
    "                string = string[:j] + '0' + string[j+1:];\n",
    "        if(count > 1 and string[i] != '0'):\n",
    "            R.append(string[i])\n",
    "    print(\"String with duplicate elements :\",R); \n",
    "def withoutV(string):\n",
    "    s=set(string)\n",
    "    s=\"\".join(s)\n",
    "    k=list(s)\n",
    "    print(\"String without duplicate elements :\",k)\n",
    "string=input()\n",
    "withoutV(string)\n",
    "withV(string)\n"
   ]
  },
  {
   "cell_type": "code",
   "execution_count": 10,
   "metadata": {},
   "outputs": [
    {
     "name": "stdout",
     "output_type": "stream",
     "text": [
      "Cube Root of  210  :  5.943921953075915\n"
     ]
    }
   ],
   "source": [
    "v = 210\n",
    "high = v\n",
    "low= 0\n",
    "eps = 0.0000001\n",
    "mid = (low + high) / 2.0\n",
    "while abs((mid**3)-v) > eps :\n",
    "\tif mid**3 < v:\n",
    "\t\tlow = mid\n",
    "\telse:\n",
    "\t\thigh = mid\n",
    "\tmid = (low + high)/2.0\n",
    "print (\"Cube Root of \",v ,\" : \", mid)\n"
   ]
  },
  {
   "cell_type": "code",
   "execution_count": 11,
   "metadata": {},
   "outputs": [
    {
     "name": "stdout",
     "output_type": "stream",
     "text": [
      "[3, 23, 33.4, 44, 50, 52.5, 65.3, 95, 98, 98.9, 187, 325]\n"
     ]
    }
   ],
   "source": [
    "List=[187,3,44,23,65.3,50,325,33.4,52.5,98,95]\n",
    "List.sort()\n",
    "r = 98.9\n",
    "for i in range(len(List)):\n",
    "    if List[i] > r:\n",
    "        index = i\n",
    "        break\n",
    "List = List[:i] + [r] + List[i:]\n",
    "print(List)\n"
   ]
  },
  {
   "cell_type": "code",
   "execution_count": 12,
   "metadata": {},
   "outputs": [
    {
     "name": "stdout",
     "output_type": "stream",
     "text": [
      "Shallow copy of list v1 and v2 are not object equal.\n",
      "Shallow copy of list v1 and v2 are value equal.\n",
      "Deep copy of list v1 and v3 are not object equal.\n",
      "Deep copy of list v1 and v3 are value equal.\n",
      "Copy of list v2 and v3 are not object equal.\n",
      "Copy of list v2 and v3 are notvalue equal.\n"
     ]
    }
   ],
   "source": [
    "import copy\n",
    "v1 = [1.3,4,5]\n",
    "v2 = copy.copy(v1) \n",
    "v3 = copy.deepcopy(v1) \n",
    "if v1 is v2:\n",
    "    print(\"Shallow copy of list v1 and v2 are object equal\")\n",
    "else:\n",
    "    print(\"Shallow copy of list v1 and v2 are not object equal.\")\n",
    "if v1==v2:\n",
    "    print(\"Shallow copy of list v1 and v2 are value equal.\")\n",
    "else:\n",
    "    print(\"Shallow copy of list v1 and v2 are not value equal.\")\n",
    "if v1 is v3:\n",
    "    print(\"Deep copy of list v1 and v3 are object equal.\")\n",
    "else:\n",
    "    print(\"Deep copy of list v1 and v3 are not object equal.\")\n",
    "if v1==v3:\n",
    "    print(\"Deep copy of list v1 and v3 are value equal.\")\n",
    "else:\n",
    "    print(\"Deep copy of list v1 and v3 are not value equal.\")\n",
    "if v2 is v3:\n",
    "    print(\"Copy of list v2 and v3 are object equal.\")\n",
    "else:\n",
    "    print(\"Copy of list v2 and v3 are not object equal.\")\n",
    "if v2==3:\n",
    "    print(\"Copy of list v2 and v3 are value equal.\")\n",
    "else:\n",
    "    print(\"Copy of list v2 and v3 are notvalue equal.\")\n"
   ]
  }
 ],
 "metadata": {
  "kernelspec": {
   "display_name": "Python 3",
   "language": "python",
   "name": "python3"
  },
  "language_info": {
   "codemirror_mode": {
    "name": "ipython",
    "version": 3
   },
   "file_extension": ".py",
   "mimetype": "text/x-python",
   "name": "python",
   "nbconvert_exporter": "python",
   "pygments_lexer": "ipython3",
   "version": "3.8.10"
  }
 },
 "nbformat": 4,
 "nbformat_minor": 4
}
