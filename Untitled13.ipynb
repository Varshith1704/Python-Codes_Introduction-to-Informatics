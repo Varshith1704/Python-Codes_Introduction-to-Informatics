{
 "cells": [
  {
   "cell_type": "code",
   "execution_count": 1,
   "metadata": {},
   "outputs": [
    {
     "name": "stdout",
     "output_type": "stream",
     "text": [
      "Shape of dataframe (10, 4)\n",
      "Total Column added in dataframe\n",
      "       Name  Math  Science  Computer Science  Total\n",
      "0      John    70       65                59    194\n",
      "1      Liam    80       90                95    265\n",
      "2   William    76       77                80    233\n",
      "3  Benjamin    89       77                55    221\n",
      "4    Mathew    80       91                85    256\n",
      "5      Noah    50       50                40    140\n",
      "6     Lucas    60       61                53    174\n",
      "7     Ethan    60       54                67    181\n",
      "8    Olivia    70       84                60    214\n",
      "9       Ava    50       65                80    195\n",
      "Mean of Total 207.3\n",
      "Median of Total 204.5\n",
      "Variance of Total 1472.4555555555555\n",
      "Standard Deviation of Total 38.37258859596985\n",
      "Details of the highest Total value\n",
      "Name                Liam\n",
      "Math                  80\n",
      "Science               90\n",
      "Computer Science      95\n",
      "Total                265\n",
      "Name: 1, dtype: object\n"
     ]
    }
   ],
   "source": [
    "import statistics\n",
    "import math\n",
    "import pandas as pd\n",
    "Marks = pd.read_csv(\"StudentList.csv\")\n",
    "print(\"Shape of dataframe\",Marks.shape)\n",
    "Marks['Total'] = Marks['Math'] + Marks['Science']+Marks['Computer Science']\n",
    "print(\"Total Column added in dataframe\")\n",
    "print(Marks)\n",
    "print(\"Mean of Total\",Marks['Total'].mean())\n",
    "print(\"Median of Total\",Marks['Total'].median())\n",
    "print(\"Variance of Total\",statistics.variance(Marks['Total']))\n",
    "print(\"Standard Deviation of Total\",math.sqrt(statistics.variance(Marks['Total'])))\n",
    "print(\"Details of the highest Total value\")\n",
    "print(Marks.loc[Marks['Total'].idxmax()])"
   ]
  },
  {
   "cell_type": "code",
   "execution_count": 19,
   "metadata": {},
   "outputs": [
    {
     "name": "stdout",
     "output_type": "stream",
     "text": [
      "[9, 4, 4, 9, 8, 4, 9, 8, 4, 2, 9, 3, 6, 7, 8, 1, 5, 2, 4, 7]\n"
     ]
    }
   ],
   "source": [
    "import random \n",
    "list = [10,1,2,4,9,5,3,6,8,7]\n",
    "list1=random.choices(list,k=20)\n",
    "print(list1)"
   ]
  },
  {
   "cell_type": "code",
   "execution_count": 20,
   "metadata": {},
   "outputs": [
    {
     "data": {
      "image/png": "[encoded data removed]",
      "text/plain": [
       "<Figure size 432x288 with 1 Axes>"
      ]
     },
     "metadata": {},
     "output_type": "display_data"
    }
   ],
   "source": [
    "import matplotlib.pyplot as plt\n",
    "x=list1\n",
    "plt.style.use('ggplot')\n",
    "plt.hist(x, bins=10)\n",
    "plt.title('Random Numbers')\n",
    "plt.xlabel('List of Random Numbers')\n",
    "plt.ylabel('Bins')\n",
    "plt.show()"
   ]
  },
  {
   "cell_type": "code",
   "execution_count": 11,
   "metadata": {},
   "outputs": [
    {
     "name": "stdout",
     "output_type": "stream",
     "text": [
      "{1: 2, 9: 4, 2: 3, 10: 2, 8: 2, 3: 3, 7: 2, 5: 1, 6: 1}\n",
      "dict_keys([1, 9, 2, 10, 8, 3, 7, 5, 6])\n",
      "Probability of  1 = 0.1\n",
      "Probability of  9 = 0.2\n",
      "Probability of  2 = 0.15\n",
      "Probability of  10 = 0.1\n",
      "Probability of  8 = 0.1\n",
      "Probability of  3 = 0.15\n",
      "Probability of  7 = 0.1\n",
      "Probability of  5 = 0.05\n",
      "Probability of  6 = 0.05\n"
     ]
    }
   ],
   "source": [
    "from collections import defaultdict\n",
    "def frequencies(lst):\n",
    "  freq = defaultdict(int)\n",
    "  for val in lst:\n",
    "    freq[val] += 1\n",
    "  return dict(freq)\n",
    "k=frequencies(list1)\n",
    "print(k)\n",
    "print(k.keys())\n",
    "for i in k:\n",
    "    print(\"Probability of \", i,\"=\",k[i]/20)"
   ]
  },
  {
   "cell_type": "code",
   "execution_count": 12,
   "metadata": {},
   "outputs": [
    {
     "name": "stdout",
     "output_type": "stream",
     "text": [
      "2 was 15 times thrown.\n"
     ]
    },
    {
     "data": {
      "image/png": "[encoded data removed]",
      "text/plain": [
       "<Figure size 432x288 with 1 Axes>"
      ]
     },
     "metadata": {},
     "output_type": "display_data"
    }
   ],
   "source": [
    "from random import randint\n",
    "import matplotlib.pyplot as plt\n",
    "from collections import defaultdict\n",
    "results=defaultdict(int) \n",
    "while(True):\n",
    "    results[randint(1, 6)]+=1 \n",
    "    if results[5]>=25:\n",
    "        print(f\"{5} was {results[5]} times thrown.\")\n",
    "        break\n",
    "    if results[2]>=15:\n",
    "        print(f\"{2} was {results[2]} times thrown.\")\n",
    "        break\n",
    "plt.bar(results.keys(), results.values(), color='b')\n",
    "plt.show()"
   ]
  },
  {
   "cell_type": "code",
   "execution_count": 13,
   "metadata": {},
   "outputs": [
    {
     "name": "stdout",
     "output_type": "stream",
     "text": [
      "Numpy Array [ 4  2  5  2  3  2  7  2  9  5 10  3]\n",
      "4x3 Matrix\n",
      "[[ 4  2  5]\n",
      " [ 2  3  2]\n",
      " [ 7  2  9]\n",
      " [ 5 10  3]]\n"
     ]
    }
   ],
   "source": [
    "import numpy as np\n",
    "list=[4,2,5,2,3,2,7,2,9,5,10,3]\n",
    "y=np.asarray(list)\n",
    "print(\"Numpy Array\",y)\n",
    "x = np.reshape(y, (4,3))\n",
    "print(\"4x3 Matrix\")\n",
    "print(x)"
   ]
  }
 ],
 "metadata": {
  "kernelspec": {
   "display_name": "Python 3",
   "language": "python",
   "name": "python3"
  },
  "language_info": {
   "codemirror_mode": {
    "name": "ipython",
    "version": 3
   },
   "file_extension": ".py",
   "mimetype": "text/x-python",
   "name": "python",
   "nbconvert_exporter": "python",
   "pygments_lexer": "ipython3",
   "version": "3.8.10"
  }
 },
 "nbformat": 4,
 "nbformat_minor": 4
}
