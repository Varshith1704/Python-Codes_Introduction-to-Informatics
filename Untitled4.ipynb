{
 "cells": [
  {
   "cell_type": "markdown",
   "metadata": {},
   "source": [
    "# O(n) - Linear Time Complexity\n",
    "## The operational time taken to sum all the elements of the list depends on the size of the list as the loop traverses through all the elements of the list \n",
    "## Larger the input, more is the operatonal time taken and this behavior is linear on the graph"
   ]
  },
  {
   "cell_type": "code",
   "execution_count": 5,
   "metadata": {},
   "outputs": [
    {
     "name": "stdout",
     "output_type": "stream",
     "text": [
      "sum of all elements of list is :  0\n",
      "sum of all elements of list is :  10\n",
      "sum of all elements of list is :  499500\n"
     ]
    }
   ],
   "source": [
    "def add_list(paramList):\n",
    "    sum = 0\n",
    "    for param in paramList:\n",
    "        sum += param\n",
    "    print(\"sum of all elements of list is : \", sum) \n",
    "add_list( [0])\n",
    "add_list([1,2,3,4]) \n",
    "add_list([i for i in range(1000)])\n"
   ]
  },
  {
   "cell_type": "markdown",
   "metadata": {},
   "source": [
    "# O(n log n) - log-linear complexity\n",
    "## To sort an array, we need at least one iteration over each element, so we’re already at O(n).\n",
    "## log n is actually logarithm to the base 2\n",
    "## In divide and conquer approach, we divide the problem into sub problems(divide) and solve them separately and then combine the solutions(conquer).\n",
    "## When the list of input size n is divided into two halves, we get the log n time complexity.\n",
    "## That’s why Merge sort’s time complexity is O(n log n)."
   ]
  },
  {
   "cell_type": "code",
   "execution_count": 17,
   "metadata": {},
   "outputs": [
    {
     "name": "stdout",
     "output_type": "stream",
     "text": [
      "Sorted array is: \n",
      "1 4 5 6 9 10 12 18 22 31 52 88 \n"
     ]
    }
   ],
   "source": [
    "def mergeSort(array):\n",
    "    if len(array) > 1:\n",
    "        r = len(array)//2\n",
    "        L = array[:r]\n",
    "        M = array[r:]\n",
    "        mergeSort(L)\n",
    "        mergeSort(M)\n",
    "        i = j = k = 0\n",
    "        while i < len(L) and j < len(M):\n",
    "            if L[i] < M[j]:\n",
    "                array[k] = L[i]\n",
    "                i += 1\n",
    "            else:\n",
    "                array[k] = M[j]\n",
    "                j += 1\n",
    "            k += 1\n",
    "        while i < len(L):\n",
    "            array[k] = L[i]\n",
    "            i += 1\n",
    "            k += 1\n",
    "        while j < len(M):\n",
    "            array[k] = M[j]\n",
    "            j += 1\n",
    "            k += 1\n",
    "def printList(array):\n",
    "    for i in range(len(array)):\n",
    "        print(array[i], end=\" \")\n",
    "    print()\n",
    "if __name__ == '__main__':\n",
    "    array = [6,5,31,4,88,12,52,18,10,9,1,22]\n",
    "    mergeSort(array)\n",
    "    print(\"Sorted array is: \")\n",
    "    printList(array)"
   ]
  },
  {
   "cell_type": "markdown",
   "metadata": {},
   "source": [
    "# O(2^n) - Exponential complexity\n",
    "## An algorithm/code where the operational time increases in exponentiations as the input increases, is said to have an Exponentiation Time complexity. The nature of these algorithms is such that every increase in the size of input causes a huge increase in operational complexity, being low initially and then drastically increased with the increase in the input size.\n",
    "## In the code below, we are calling the fibonacci_fun function recursively to calculate the sum of Fibonacci numbers up to its input parameter. The complexity of execution increases in exponentiation fashion as we call the function recursively with every increase in the size of the input to generate the Fibonacci series."
   ]
  },
  {
   "cell_type": "code",
   "execution_count": null,
   "metadata": {},
   "outputs": [],
   "source": []
  },
  {
   "cell_type": "code",
   "execution_count": 23,
   "metadata": {},
   "outputs": [
    {
     "name": "stdout",
     "output_type": "stream",
     "text": [
      "1\n",
      "1\n",
      "2\n",
      "3\n",
      "5\n",
      "8\n",
      "13\n",
      "21\n",
      "34\n"
     ]
    }
   ],
   "source": [
    "def Fib_fun(n):  \n",
    "    if(n<=1):\n",
    "        return n\n",
    "    return(Fib_fun(n-1)+Fib_fun(n-2))\n",
    "for i in range(1,10):\n",
    "    print(Fib_fun(i))"
   ]
  },
  {
   "cell_type": "markdown",
   "metadata": {},
   "source": [
    "#  O(n^2) - Polynomial complexity \n",
    "## The operational time taken to sum all the elements of the list depends on square of the dimension of the list as there is one loop that traverses n number of times and inside that there is another loop that traverses n number of times. \n",
    "## Thus making operational complexity to be nin times i.e n squared times"
   ]
  },
  {
   "cell_type": "code",
   "execution_count": 30,
   "metadata": {},
   "outputs": [
    {
     "name": "stdout",
     "output_type": "stream",
     "text": [
      "sum of all elements of list is :  1\n",
      "sum of all elements of list is :  10\n",
      "sum of all elements of list is :  45\n",
      "sum of all elements of list is :  50\n",
      "sum of all elements of list is :  450\n"
     ]
    }
   ],
   "source": [
    "def list_elements (paramList):\n",
    "    sum=0\n",
    "    for row in paramList:\n",
    "        for element in row:\n",
    "            sum += element\n",
    "    print(\"sum of all elements of list is : \", sum)\n",
    "list_elements([[1]])\n",
    "list_elements ([[1,2],[3,4]])\n",
    "list_elements ([[1,2,3],[4,5,6], [7,8,9]])\n",
    "list_elements ([x for x in range(5)] for y in range(5))\n",
    "list_elements ( [x for x in range (10)] for y in range (10))"
   ]
  },
  {
   "cell_type": "markdown",
   "metadata": {},
   "source": [
    "# Block 1 iteartes n**m times as the loop continue to iterate for n**m times.\n",
    "# Block 2 iterates infinite times as i value is equal to 0 all the time which is less than n for all n>0\n",
    "# Block 3 iterates infinite times as i value is equal to 0 all the time which is less than n for all n>0 \n",
    "# The overall time complexity of the fun is infinite times "
   ]
  },
  {
   "cell_type": "code",
   "execution_count": 33,
   "metadata": {},
   "outputs": [],
   "source": [
    "def fun(n, x, m):\n",
    "#Block 1\n",
    "    if x == 2:\n",
    "        print (\"x is 2\") \n",
    "        for i in range(n):\n",
    "            k = 0 \n",
    "            for j in range (m): \n",
    "                k = 2+i+j\n",
    "            print (k)\n",
    "\n",
    "#Block 2\n",
    "    i=0\n",
    "    j = 10\n",
    "    while i<n:\n",
    "        while j> m:\n",
    "            j/= 2 \n",
    "        i *= 2\n",
    "\n",
    "#Block 3\n",
    "    i = 0\n",
    "    j = 100\n",
    "    N= (n+m) *2\n",
    "    while i<N:\n",
    "        print(i)"
   ]
  }
 ],
 "metadata": {
  "kernelspec": {
   "display_name": "Python 3",
   "language": "python",
   "name": "python3"
  },
  "language_info": {
   "codemirror_mode": {
    "name": "ipython",
    "version": 3
   },
   "file_extension": ".py",
   "mimetype": "text/x-python",
   "name": "python",
   "nbconvert_exporter": "python",
   "pygments_lexer": "ipython3",
   "version": "3.7.6"
  }
 },
 "nbformat": 4,
 "nbformat_minor": 4
}
