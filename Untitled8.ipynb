{
 "cells": [
  {
   "cell_type": "code",
   "execution_count": 21,
   "metadata": {},
   "outputs": [
    {
     "name": "stdout",
     "output_type": "stream",
     "text": [
      "      ORDERNUMBER  QUANTITYORDERED  PRICEEACH    SALES        ORDERDATE  \\\n",
      "0           10107               30      95.70  2871.00   2/24/2003 0:00   \n",
      "1           10121               34      81.35  2765.90    5/7/2003 0:00   \n",
      "2           10134               41      94.74  3884.34    7/1/2003 0:00   \n",
      "3           10145               45      83.26  3746.70   8/25/2003 0:00   \n",
      "4           10159               49     100.00  5205.27  10/10/2003 0:00   \n",
      "...           ...              ...        ...      ...              ...   \n",
      "2818        10350               20     100.00  2244.40   12/2/2004 0:00   \n",
      "2819        10373               29     100.00  3978.51   1/31/2005 0:00   \n",
      "2820        10386               43     100.00  5417.57    3/1/2005 0:00   \n",
      "2821        10397               34      62.24  2116.16   3/28/2005 0:00   \n",
      "2822        10414               47      65.52  3079.44    5/6/2005 0:00   \n",
      "\n",
      "      MONTH_ID  YEAR_ID  TOTALCOST  \n",
      "0            2     2003    2871.00  \n",
      "1            5     2003    2765.90  \n",
      "2            7     2003    3884.34  \n",
      "3            8     2003    3746.70  \n",
      "4           10     2003    4900.00  \n",
      "...        ...      ...        ...  \n",
      "2818        12     2004    2000.00  \n",
      "2819         1     2005    2900.00  \n",
      "2820         3     2005    4300.00  \n",
      "2821         3     2005    2116.16  \n",
      "2822         5     2005    3079.44  \n",
      "\n",
      "[2823 rows x 8 columns]\n"
     ]
    },
    {
     "data": {
      "image/png": "[encoded data removed]",
      "text/plain": [
       "<Figure size 432x288 with 1 Axes>"
      ]
     },
     "metadata": {
      "needs_background": "light"
     },
     "output_type": "display_data"
    }
   ],
   "source": [
    "import pandas as pd\n",
    "import matplotlib.pyplot as plt\n",
    "df = pd.read_csv('sales_data_sample.csv')\n",
    "df.head(1)\n",
    "df['TOTALCOST'] = df['QUANTITYORDERED'] * df['PRICEEACH']\n",
    "print(df)\n",
    "X=list(df['YEAR_ID'])\n",
    "Y=list(df['TOTALCOST'])\n",
    "plt.title(\"Sales Data Analysis\")\n",
    "plt.xlabel(\"No of sales per Year\")\n",
    "plt.ylabel(\"Total cost of the sales\")\n",
    "plt.bar(X,Y)\n",
    "plt.show()"
   ]
  },
  {
   "cell_type": "code",
   "execution_count": null,
   "metadata": {},
   "outputs": [],
   "source": []
  }
 ],
 "metadata": {
  "kernelspec": {
   "display_name": "Python 3",
   "language": "python",
   "name": "python3"
  },
  "language_info": {
   "codemirror_mode": {
    "name": "ipython",
    "version": 3
   },
   "file_extension": ".py",
   "mimetype": "text/x-python",
   "name": "python",
   "nbconvert_exporter": "python",
   "pygments_lexer": "ipython3",
   "version": "3.7.6"
  }
 },
 "nbformat": 4,
 "nbformat_minor": 4
}
