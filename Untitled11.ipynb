{
 "cells": [
  {
   "cell_type": "markdown",
   "metadata": {},
   "source": [
    "# O(n) - Linear time complexity\n",
    " Time taken to sum up every elements in the list which depends on the size of the list. Because the loop transverse through every element of the list. More operational time will be taken if the input is large. And the behaviour appears linear on the graph.\n"
   ]
  },
  {
   "cell_type": "code",
   "execution_count": 1,
   "metadata": {},
   "outputs": [
    {
     "name": "stdout",
     "output_type": "stream",
     "text": [
      "sum of all elements of list is :  0\n",
      "=============================\n",
      "sum of all elements of list is :  10\n",
      "=============================\n",
      "sum of all elements of list is :  499500\n",
      "=============================\n",
      "sum of all elements of list is :  4999950000\n",
      "=============================\n"
     ]
    }
   ],
   "source": [
    "def add_list_elements(paramlist):\n",
    "    sum = 0\n",
    "    for param in paramlist:\n",
    "        sum += param\n",
    "        \n",
    "    print(\"sum of all elements of list is : \", sum)\n",
    "    print(\"=============================\")\n",
    "    \n",
    "add_list_elements([0])\n",
    "add_list_elements([1,2,3,4])\n",
    "add_list_elements([i for i in range(1000)])\n",
    "add_list_elements([i for i in range(100000)])"
   ]
  },
  {
   "cell_type": "markdown",
   "metadata": {},
   "source": [
    "# O(n log n) - log linear complexity\n",
    " For an array to be sorted we need one iteration on each and every element, we have already done O(n) above. log n is logarithm to the base 2. In divide and conquer approach, we divide the problem to sub problems which is a divide approach and we solve them seperately and then combine the solutions which is a conquer approach. Also when list of input size n is divided into two halves, we also get the log n time complexity. This is the reason that Merge sort's time complexity is O(n log n)."
   ]
  },
  {
   "cell_type": "code",
   "execution_count": 3,
   "metadata": {},
   "outputs": [
    {
     "name": "stdout",
     "output_type": "stream",
     "text": [
      "False\n",
      "True\n"
     ]
    }
   ],
   "source": [
    "def linearSearch(alist, item):\n",
    "    for i in alist:\n",
    "        if i==item:\n",
    "            return True\n",
    "    return False\n",
    "testlist = [0, 1, 2, 8, 13, 17, 32, 42]\n",
    "print(linearSearch(testlist, 3))\n",
    "print(linearSearch(testlist, 13))"
   ]
  },
  {
   "cell_type": "markdown",
   "metadata": {},
   "source": [
    "# O(2^n) - Exponential complexity\n",
    "In the code when the operational time increases in exponentiations as the input increases, which is said to have an exponentiation time complexity. The nature of these codes is that if the size of input increases there will be a huge increase in operational complexity, which is being low at the start and then drastically increases with the increase in the input size.\n",
    "In the code which I have mentioned below the complexity of execution increases in exponentiation fashion as we call the function recursively with every increase in the size of the input to generate the Fibonacci series."
   ]
  },
  {
   "cell_type": "code",
   "execution_count": 1,
   "metadata": {},
   "outputs": [],
   "source": [
    "def fibonacci(n):\n",
    "    if n <= 1:\n",
    "        return n\n",
    "    return fibonacci(n-1) + fibonacci(n-2)"
   ]
  },
  {
   "cell_type": "markdown",
   "metadata": {},
   "source": [
    "# O(n^2) - Polynomial complexity\n",
    "The time taken to sum up each and every element in the list depends on the square of dimension of the list. Because there is one loop that transverses n number of times and inside that there is another loop that transverses n number of times."
   ]
  },
  {
   "cell_type": "code",
   "execution_count": 9,
   "metadata": {},
   "outputs": [
    {
     "name": "stdout",
     "output_type": "stream",
     "text": [
      "x\n",
      "x\n",
      "x\n",
      "x\n",
      "x\n",
      "x\n",
      "x\n",
      "x\n",
      "x\n",
      "x\n",
      "x\n",
      "x\n",
      "x\n",
      "x\n",
      "x\n",
      "x\n",
      "x\n",
      "x\n",
      "x\n",
      "x\n",
      "x\n",
      "x\n",
      "x\n",
      "x\n",
      "x\n",
      "x\n",
      "x\n",
      "x\n",
      "x\n",
      "x\n",
      "x\n",
      "x\n",
      "x\n",
      "x\n",
      "x\n",
      "x\n",
      "x\n",
      "x\n",
      "x\n",
      "x\n",
      "x\n",
      "x\n",
      "x\n",
      "x\n",
      "x\n",
      "x\n",
      "x\n",
      "x\n",
      "x\n",
      "x\n",
      "x\n",
      "x\n",
      "x\n",
      "x\n",
      "x\n",
      "x\n",
      "x\n",
      "x\n",
      "x\n",
      "x\n",
      "x\n",
      "x\n",
      "x\n",
      "x\n",
      "x\n",
      "x\n",
      "x\n",
      "x\n",
      "x\n",
      "x\n",
      "x\n",
      "x\n",
      "x\n",
      "x\n",
      "x\n",
      "x\n",
      "x\n",
      "x\n",
      "x\n",
      "x\n",
      "x\n",
      "x\n",
      "x\n",
      "x\n",
      "x\n",
      "x\n",
      "x\n",
      "x\n",
      "x\n",
      "x\n",
      "x\n",
      "x\n",
      "x\n",
      "x\n",
      "x\n",
      "x\n",
      "x\n",
      "x\n",
      "x\n",
      "x\n"
     ]
    }
   ],
   "source": [
    "a = [1, 2, 3, 4, 5, 6, 7, 8, 9, 10]\n",
    "for i in a:\n",
    "    for x in a:\n",
    "        print(\"x\")"
   ]
  },
  {
   "cell_type": "code",
   "execution_count": 15,
   "metadata": {},
   "outputs": [],
   "source": [
    "def fun(n, x, m):\n",
    "#Block 1\n",
    "    if x == 2:\n",
    "        print (\"x is 2\") \n",
    "        for i in range(n):\n",
    "            k = 0 \n",
    "            for j in range (m): \n",
    "                k = 2+i+j\n",
    "            print (k)"
   ]
  },
  {
   "cell_type": "markdown",
   "metadata": {},
   "source": [
    "Block 1 iterates nm times as the loop continue to iterate for nm times."
   ]
  },
  {
   "cell_type": "code",
   "execution_count": null,
   "metadata": {},
   "outputs": [],
   "source": [
    "#Block 2\n",
    "    i=0\n",
    "    j = 10\n",
    "    while i<n:\n",
    "        while j> m:\n",
    "            j/= 2 \n",
    "        i *= 2"
   ]
  },
  {
   "cell_type": "markdown",
   "metadata": {},
   "source": [
    "Block 2 iterates infinite times as i value is equal to 0 all the time which is less than n for all n>0"
   ]
  },
  {
   "cell_type": "code",
   "execution_count": null,
   "metadata": {},
   "outputs": [],
   "source": [
    "#Block 3\n",
    "    i = 0\n",
    "    j = 100\n",
    "    N= (n+m) *2\n",
    "    while i<N:\n",
    "        print(i)"
   ]
  },
  {
   "cell_type": "markdown",
   "metadata": {},
   "source": [
    "Block 3 iterates infinite times as i value is equal to 0 all the time which is less than n for all n>0"
   ]
  },
  {
   "cell_type": "markdown",
   "metadata": {},
   "source": [
    "Overall time complexity of the function is infinite times."
   ]
  }
 ],
 "metadata": {
  "kernelspec": {
   "display_name": "Python 3",
   "language": "python",
   "name": "python3"
  },
  "language_info": {
   "codemirror_mode": {
    "name": "ipython",
    "version": 3
   },
   "file_extension": ".py",
   "mimetype": "text/x-python",
   "name": "python",
   "nbconvert_exporter": "python",
   "pygments_lexer": "ipython3",
   "version": "3.8.10"
  }
 },
 "nbformat": 4,
 "nbformat_minor": 4
}
